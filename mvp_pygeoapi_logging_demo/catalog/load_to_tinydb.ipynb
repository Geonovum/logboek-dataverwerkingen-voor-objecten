{
 "cells": [
  {
   "cell_type": "code",
   "execution_count": 7,
   "metadata": {},
   "outputs": [],
   "source": [
    "import json\n",
    "from tinydb import TinyDB"
   ]
  },
  {
   "cell_type": "code",
   "execution_count": 8,
   "metadata": {},
   "outputs": [],
   "source": [
    "db = TinyDB('./../server/data/metadata/catalog.tinydb')\n",
    "\n"
   ]
  },
  {
   "cell_type": "code",
   "execution_count": 9,
   "metadata": {},
   "outputs": [],
   "source": [
    "db.truncate()"
   ]
  },
  {
   "cell_type": "code",
   "execution_count": null,
   "metadata": {},
   "outputs": [],
   "source": [
    "\n",
    "json_record = json.load(open('./metadata/localOutlier_dataproduct.json'))\n",
    "\n",
    "res = db.insert(json_record)\n",
    "\n",
    "json_record = json.load(open('./metadata/bomen_sloten_dataset.json'))\n",
    "\n",
    "res = db.insert(json_record)\n",
    "\n",
    "json_record = json.load(open('./metadata/knmi_meetstations_dataset.json'))\n",
    "\n",
    "res = db.insert(json_record)\n",
    "\n",
    "json_record = json.load(open('./metadata/beoordelen_kapvergunning_dataproduct.json'))\n",
    "\n",
    "res = db.insert(json_record)"
   ]
  },
  {
   "cell_type": "code",
   "execution_count": 6,
   "metadata": {},
   "outputs": [],
   "source": [
    "\n",
    "db.close()"
   ]
  }
 ],
 "metadata": {
  "kernelspec": {
   "display_name": "pygeoapi",
   "language": "python",
   "name": "python3"
  },
  "language_info": {
   "codemirror_mode": {
    "name": "ipython",
    "version": 3
   },
   "file_extension": ".py",
   "mimetype": "text/x-python",
   "name": "python",
   "nbconvert_exporter": "python",
   "pygments_lexer": "ipython3",
   "version": "3.12.7"
  }
 },
 "nbformat": 4,
 "nbformat_minor": 2
}
